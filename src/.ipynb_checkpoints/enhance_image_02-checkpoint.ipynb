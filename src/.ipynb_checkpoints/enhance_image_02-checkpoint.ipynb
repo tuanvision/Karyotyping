{
 "cells": [
  {
   "cell_type": "code",
   "execution_count": 2,
   "metadata": {},
   "outputs": [],
   "source": [
    "# Standard import\n",
    "#  conda install --channel https://conda.anaconda.org/menpo opencv3\n",
    "import cv2\n",
    "import numpy as np\n",
    "from matplotlib import pyplot as plt\n"
   ]
  },
  {
   "cell_type": "code",
   "execution_count": 43,
   "metadata": {},
   "outputs": [
    {
     "name": "stdout",
     "output_type": "stream",
     "text": [
      "Len contours:  65\n",
      "(896, 1017)\n",
      "Shape:  896 1017\n",
      "0 0 20 20\n",
      "[[0. 0. 0. 0. 0. 0. 0. 0. 0. 0. 0. 0. 0. 0. 0. 0. 0. 0. 0. 0.]\n",
      " [0. 1. 0. 0. 0. 0. 0. 0. 0. 0. 0. 0. 0. 0. 0. 0. 0. 0. 0. 0.]\n",
      " [0. 0. 0. 0. 0. 0. 0. 0. 0. 0. 0. 0. 0. 0. 0. 0. 0. 0. 0. 0.]\n",
      " [0. 0. 0. 0. 0. 0. 0. 0. 0. 0. 0. 0. 0. 0. 0. 0. 0. 0. 0. 0.]\n",
      " [0. 0. 0. 0. 0. 0. 0. 0. 0. 0. 0. 0. 0. 0. 0. 0. 0. 0. 0. 0.]\n",
      " [0. 0. 0. 0. 0. 0. 0. 0. 0. 0. 0. 0. 0. 0. 0. 0. 0. 0. 0. 0.]\n",
      " [0. 0. 0. 0. 0. 0. 0. 0. 0. 0. 0. 0. 0. 0. 0. 0. 0. 0. 0. 0.]\n",
      " [0. 0. 0. 0. 0. 0. 0. 0. 0. 0. 0. 0. 0. 0. 0. 0. 0. 0. 0. 0.]\n",
      " [0. 0. 0. 0. 0. 0. 0. 0. 0. 0. 0. 0. 0. 0. 0. 0. 0. 0. 0. 0.]\n",
      " [0. 0. 0. 0. 0. 0. 0. 0. 0. 0. 0. 0. 0. 0. 0. 0. 0. 0. 0. 0.]\n",
      " [0. 0. 0. 0. 0. 0. 0. 0. 0. 0. 0. 0. 0. 0. 0. 0. 0. 0. 0. 0.]\n",
      " [0. 0. 0. 0. 0. 0. 0. 0. 0. 0. 0. 0. 0. 0. 0. 0. 0. 0. 0. 0.]\n",
      " [0. 0. 0. 0. 0. 0. 0. 0. 0. 0. 0. 0. 0. 0. 0. 0. 0. 0. 0. 0.]\n",
      " [0. 0. 0. 0. 0. 0. 0. 0. 0. 0. 0. 0. 0. 0. 0. 0. 0. 0. 0. 0.]\n",
      " [0. 0. 0. 0. 0. 0. 0. 0. 0. 0. 0. 0. 0. 0. 0. 0. 0. 0. 0. 0.]\n",
      " [0. 0. 0. 0. 0. 0. 0. 0. 0. 0. 0. 0. 0. 0. 0. 0. 0. 0. 0. 0.]\n",
      " [0. 0. 0. 0. 0. 0. 0. 0. 0. 0. 0. 0. 0. 0. 0. 0. 0. 0. 0. 0.]\n",
      " [0. 0. 0. 0. 0. 0. 0. 0. 0. 0. 0. 0. 0. 0. 0. 0. 0. 0. 0. 0.]\n",
      " [0. 0. 0. 0. 0. 0. 0. 0. 0. 0. 0. 0. 0. 0. 0. 0. 0. 0. 0. 0.]\n",
      " [0. 0. 0. 0. 0. 0. 0. 0. 0. 0. 0. 0. 0. 0. 0. 0. 0. 0. 0. 0.]]\n"
     ]
    }
   ],
   "source": [
    "# read image\n",
    "file_image = '../images/100864.013.A.BMP'\n",
    "\n",
    "def show_image(image, name='image'):\n",
    "    cv2.imshow(name,image)\n",
    "    cv2.waitKey(0)\n",
    "    cv2.destroyAllWindows()\n",
    "    \n",
    "img = cv2.imread(file_image)\n",
    "\n",
    "# Step 1: Convert image to gray scale\n",
    "gray = cv2.cvtColor(img, cv2.COLOR_BGR2GRAY)\n",
    "# plt.imshow(gray, 'gray')\n",
    "\n",
    "# Otsu's method without noise filtering\n",
    "ret1, th1 = cv2.threshold(gray,0,255,cv2.THRESH_BINARY+cv2.THRESH_OTSU)\n",
    "# cv2.imwrite(\"data/giemsa_raw_thresholded.BMP\", th1)\n",
    "# plt.imshow(th1, 'gray')\n",
    "\n",
    "# Coutours\n",
    "im2, contours, hierarchy = cv2.findContours(th1, cv2.RETR_TREE, cv2.CHAIN_APPROX_SIMPLE)\n",
    "image_with_contours = cv2.drawContours(gray, contours, -1, (0,255,0), 3)\n",
    "\n",
    "# print(image_with_contours[0][0])\n",
    "# show_image(image_with_contours)\n",
    "# mask for image\n",
    "\n",
    "mask_contour = np.zeros(image_with_contours.shape)\n",
    "num_contour = len(contours)\n",
    "\n",
    "# print(mask_countour.shape)\n",
    "# print(image_with_contours)\n",
    "def sliding_window(image, stepSize, windowSize):\n",
    "    # slide a window across the image\n",
    "    print(\"Shape: \", image.shape[0], image.shape[1])\n",
    "    for y in range(0, image.shape[0], stepSize):\n",
    "        for x in range(0, image.shape[1], stepSize):\n",
    "            # yield the current window\n",
    "            print(x, y, x + windowSize[0], y +  windowSize[1])\n",
    "            # arr = np.array([x, y, x + windowSize[0], y + windowSize[1] ])\n",
    "            arr = mask_contour[x : x + windowSize[0], y : y + windowSize[1]]\n",
    "            print(arr)\n",
    "            break\n",
    "        break\n",
    "            # yield (x, y, image[y:y + windowSize[1], x:x + windowSize[0]])\n",
    "            \n",
    "print(\"Len contours: \", len(contours));\n",
    "cnt = 0\n",
    "for id, contour in enumerate(contours):\n",
    "    # print(id, len(c), image_with_contours[c[0][0][0]][c[0][0][1] ] )\n",
    "#     for j in c:\n",
    "#         # X: j[0][1], Y: j[0][0]\n",
    "#         print(image_with_contours[j[0][1]][j[0][0]])\n",
    "    for point in contour:\n",
    "        # X: point[0][1], Y: point[0][0]\n",
    "        x = point[0][1]\n",
    "        y = point[0][0]\n",
    "        mask_contour[x][y] = id + 1        \n",
    "    # print(len(c[0]), c[0][0], type(c[0][0]))\n",
    "    cnt += len(contour)\n",
    "\n",
    "# print(cnt)\n",
    "print(image_with_contours.shape)\n",
    "\n",
    "sliding_window(image_with_contours, 32, (20, 20))\n",
    "\n"
   ]
  },
  {
   "cell_type": "code",
   "execution_count": 3,
   "metadata": {
    "scrolled": true
   },
   "outputs": [
    {
     "name": "stdout",
     "output_type": "stream",
     "text": [
      "51\n",
      "(448, 509, 4)\n"
     ]
    }
   ],
   "source": [
    "# find the bounding rect, min area rect, and min enclosing circle.\n",
    "# read and scale down image\n",
    "img = cv2.pyrDown(cv2.imread(file_image, cv2.IMREAD_UNCHANGED))\n",
    " \n",
    "# threshold image\n",
    "ret, threshed_img = cv2.threshold(cv2.cvtColor(img, cv2.COLOR_BGR2GRAY),\n",
    "                127, 255, cv2.THRESH_BINARY)\n",
    "# find contours and get the external one\n",
    "image, contours, hier = cv2.findContours(threshed_img, cv2.RETR_TREE,\n",
    "                cv2.CHAIN_APPROX_SIMPLE)\n",
    " \n",
    "# with each contour, draw boundingRect in green\n",
    "# a minAreaRect in red and\n",
    "# a minEnclosingCircle in blue\n",
    "\n",
    "for c in contours:\n",
    "    # get the bounding rect\n",
    "    x, y, w, h = cv2.boundingRect(c)\n",
    "    # draw a green rectangle to visualize the bounding rect\n",
    "    cv2.rectangle(img, (x, y), (x+w, y+h), (0, 255, 0), 2)\n",
    " \n",
    "    # get the min area rect\n",
    "    rect = cv2.minAreaRect(c)\n",
    "    box = cv2.boxPoints(rect)\n",
    "    # convert all coordinates floating point values to int\n",
    "    box = np.int0(box)\n",
    "    # draw a red 'nghien' rectangle\n",
    "    cv2.drawContours(img, [box], 0, (0, 0, 255))\n",
    " \n",
    "#     # finally, get the min enclosing circle\n",
    "#     (x, y), radius = cv2.minEnclosingCircle(c)\n",
    "#     # convert all values to int\n",
    "#     center = (int(x), int(y))\n",
    "#     radius = int(radius)\n",
    "#     # and draw the circle in blue\n",
    "#     img = cv2.circle(img, center, radius, (255, 0, 0), 2)\n",
    " \n",
    "print(len(contours))\n",
    "\n",
    "cv2.drawContours(img, contours, -1, (255, 255, 0), 1)\n",
    " \n",
    "\n",
    "show_image(img, \"contours\")\n",
    "print(img.shape)\n"
   ]
  },
  {
   "cell_type": "code",
   "execution_count": 6,
   "metadata": {},
   "outputs": [
    {
     "name": "stdout",
     "output_type": "stream",
     "text": [
      "(448, 509, 4)\n"
     ]
    }
   ],
   "source": [
    "# More on contours, convex hull.\n",
    "# downscale and read image\n",
    "img = cv2.pyrDown(cv2.imread(file_image, cv2.IMREAD_UNCHANGED))\n",
    "# threshold image\n",
    "ret, threshed_img = cv2.threshold(cv2.cvtColor(img, cv2.COLOR_BGR2GRAY),\n",
    "                    127, 255, cv2.THRESH_BINARY)\n",
    "# get contours from image\n",
    "image, contours, hier = cv2.findContours(threshed_img, cv2.RETR_EXTERNAL,\n",
    "                    cv2.CHAIN_APPROX_SIMPLE)\n",
    " \n",
    "# for each contour\n",
    "for cnt in contours:\n",
    "    # get convex hull\n",
    "    hull = cv2.convexHull(cnt)\n",
    "    # draw it in red color\n",
    "    cv2.drawContours(img, [hull], -1, (0, 0, 255), 1)\n",
    " \n",
    "show_image(img, \"contours\")\n",
    "print(img.shape)"
   ]
  },
  {
   "cell_type": "code",
   "execution_count": 4,
   "metadata": {},
   "outputs": [
    {
     "name": "stdout",
     "output_type": "stream",
     "text": [
      "(448, 509, 4)\n"
     ]
    }
   ],
   "source": [
    "# read and downscale image\n",
    "img = cv2.pyrDown(cv2.imread(file_image, cv2.IMREAD_UNCHANGED))\n",
    "# threshold image\n",
    "# this step is neccessary when you work with contours\n",
    "ret, threshed_img = cv2.threshold(cv2.cvtColor(img, cv2.COLOR_BGR2GRAY),\n",
    "                        127, 255, cv2.THRESH_BINARY)\n",
    "# find contours in image\n",
    "image, contours, hier = cv2.findContours(threshed_img, cv2.RETR_EXTERNAL,\n",
    "                        cv2.CHAIN_APPROX_SIMPLE)\n",
    " \n",
    "for cnt in contours:\n",
    "    # calculate epsilon base on contour's perimeter\n",
    "    # contour's perimeter is returned by cv2.arcLength\n",
    "    epsilon = 0.01 * cv2.arcLength(cnt, True)\n",
    "    # get approx polygons\n",
    "    approx = cv2.approxPolyDP(cnt, epsilon, True)\n",
    "    # draw approx polygons\n",
    "    cv2.drawContours(img, [approx], -1, (0, 255, 0), 1)\n",
    " \n",
    "    # hull is convex shape as a polygon\n",
    "    hull = cv2.convexHull(cnt)\n",
    "    cv2.drawContours(img, [hull], -1, (0, 0, 255))\n",
    "show_image(img, \"countours\")\n",
    "print(img.shape)\n"
   ]
  },
  {
   "cell_type": "code",
   "execution_count": null,
   "metadata": {},
   "outputs": [],
   "source": []
  }
 ],
 "metadata": {
  "kernelspec": {
   "display_name": "Python 3",
   "language": "python",
   "name": "python3"
  },
  "language_info": {
   "codemirror_mode": {
    "name": "ipython",
    "version": 3
   },
   "file_extension": ".py",
   "mimetype": "text/x-python",
   "name": "python",
   "nbconvert_exporter": "python",
   "pygments_lexer": "ipython3",
   "version": "3.6.6"
  }
 },
 "nbformat": 4,
 "nbformat_minor": 2
}
